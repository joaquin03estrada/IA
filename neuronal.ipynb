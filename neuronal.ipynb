{
  "cells": [
    {
      "cell_type": "markdown",
      "metadata": {
        "id": "view-in-github",
        "colab_type": "text"
      },
      "source": [
        "<a href=\"https://colab.research.google.com/github/joaquin03estrada/IA/blob/main/neuronal.ipynb\" target=\"_parent\"><img src=\"https://colab.research.google.com/assets/colab-badge.svg\" alt=\"Open In Colab\"/></a>"
      ]
    },
    {
      "cell_type": "code",
      "execution_count": 1,
      "id": "b8c2d9a3",
      "metadata": {
        "id": "b8c2d9a3"
      },
      "outputs": [],
      "source": [
        "# Importa las librerías\n",
        "import tensorflow as tf\n",
        "import numpy as np\n",
        "import matplotlib.pyplot as plt"
      ]
    },
    {
      "cell_type": "code",
      "execution_count": 2,
      "id": "5d953d20",
      "metadata": {
        "id": "5d953d20"
      },
      "outputs": [],
      "source": [
        "# Centimetros y su equivalente en pulgadas\n",
        "centimetros = np.array([1, 10, 50, 100, 500, 1000], dtype=float)  # centimetros\n",
        "pulgadas = np.array([0.393701, 3.93701, 19.685, 39.3701, 196.85, 393.701], dtype=float)  # pulgadas (tasa ficticia: 1 cm = 0.393701 pulgadas)"
      ]
    },
    {
      "cell_type": "code",
      "execution_count": 3,
      "id": "28b2b0fc",
      "metadata": {
        "colab": {
          "base_uri": "https://localhost:8080/"
        },
        "id": "28b2b0fc",
        "outputId": "90e8f78a-469d-453a-eacc-a6483a223182"
      },
      "outputs": [
        {
          "output_type": "stream",
          "name": "stdout",
          "text": [
            "centimetros: [   1.   10.   50.  100.  500. 1000.]\n",
            "pulgadas: [  0.393701   3.93701   19.685     39.3701   196.85     393.701   ]\n"
          ]
        }
      ],
      "source": [
        "# Imprimimos los datos para verificar\n",
        "print(\"centimetros:\", centimetros)\n",
        "print(\"pulgadas:\", pulgadas)"
      ]
    },
    {
      "cell_type": "code",
      "execution_count": 4,
      "id": "af5e2e6e",
      "metadata": {
        "colab": {
          "base_uri": "https://localhost:8080/"
        },
        "id": "af5e2e6e",
        "outputId": "4abacd91-b068-4d38-ef07-e4b624ad4449"
      },
      "outputs": [
        {
          "output_type": "stream",
          "name": "stderr",
          "text": [
            "/usr/local/lib/python3.11/dist-packages/keras/src/layers/core/dense.py:87: UserWarning: Do not pass an `input_shape`/`input_dim` argument to a layer. When using Sequential models, prefer using an `Input(shape)` object as the first layer in the model instead.\n",
            "  super().__init__(activity_regularizer=activity_regularizer, **kwargs)\n"
          ]
        }
      ],
      "source": [
        "# Define el modelo de red neuronal\n",
        "capa = tf.keras.layers.Dense(units=1, input_shape=[1])  # Una capa con una neurona\n",
        "modelo = tf.keras.Sequential([capa])  # Modelo secuencial con una sola capa"
      ]
    },
    {
      "cell_type": "code",
      "execution_count": 5,
      "id": "f1f08d10",
      "metadata": {
        "id": "f1f08d10"
      },
      "outputs": [],
      "source": [
        "# Compila el modelo\n",
        "modelo.compile(\n",
        "    optimizer=tf.keras.optimizers.Adam(0.1),  # Tasa de aprendizaje\n",
        "    loss='mean_squared_error'  # Función de pérdida\n",
        ")"
      ]
    },
    {
      "cell_type": "code",
      "execution_count": 6,
      "id": "3d6f4910",
      "metadata": {
        "colab": {
          "base_uri": "https://localhost:8080/"
        },
        "id": "3d6f4910",
        "outputId": "c1d0c0b9-d7a7-406b-8690-a6ea8adbe819"
      },
      "outputs": [
        {
          "output_type": "stream",
          "name": "stdout",
          "text": [
            "Comenzando entrenamiento...\n",
            "Modelo entrenado!\n"
          ]
        }
      ],
      "source": [
        "# Entrenamos el modelo\n",
        "print(\"Comenzando entrenamiento...\")\n",
        "historial = modelo.fit(centimetros, pulgadas, epochs=1000, verbose=False)\n",
        "print(\"Modelo entrenado!\")"
      ]
    },
    {
      "cell_type": "code",
      "execution_count": 7,
      "id": "8999ee25",
      "metadata": {
        "colab": {
          "base_uri": "https://localhost:8080/",
          "height": 451
        },
        "id": "8999ee25",
        "outputId": "0a423392-975d-470d-d6c1-b2c8ad3fbf34"
      },
      "outputs": [
        {
          "output_type": "display_data",
          "data": {
            "text/plain": [
              "<Figure size 640x480 with 1 Axes>"
            ],
            "image/png": "[encoded data removed]"
          },
          "metadata": {}
        }
      ],
      "source": [
        "# Graficamos la función de pérdida\n",
        "plt.xlabel(\"# Época\")\n",
        "plt.ylabel(\"Magnitud de pérdida\")\n",
        "plt.plot(historial.history[\"loss\"])\n",
        "plt.show()"
      ]
    },
    {
      "cell_type": "code",
      "execution_count": 8,
      "id": "23969d54",
      "metadata": {
        "colab": {
          "base_uri": "https://localhost:8080/"
        },
        "id": "23969d54",
        "outputId": "ccf1b404-8f40-4132-b6c3-0d5062bc55ed"
      },
      "outputs": [
        {
          "output_type": "stream",
          "name": "stdout",
          "text": [
            "Hagamos una predicción!\n",
            "\u001b[1m1/1\u001b[0m \u001b[32m━━━━━━━━━━━━━━━━━━━━\u001b[0m\u001b[37m\u001b[0m \u001b[1m0s\u001b[0m 84ms/step\n",
            "El resultado es 2362.28 pulgadas\n"
          ]
        }
      ],
      "source": [
        "# Realizamos una predicción\n",
        "print(\"Hagamos una predicción!\")\n",
        "resultado = modelo.predict(np.array([6000.0]))  # 6000 cm\n",
        "print(f\"El resultado es {resultado[0][0]:.2f} pulgadas\")"
      ]
    },
    {
      "cell_type": "code",
      "execution_count": 9,
      "id": "5fecdc39",
      "metadata": {
        "colab": {
          "base_uri": "https://localhost:8080/"
        },
        "id": "5fecdc39",
        "outputId": "57aa60b8-4a54-4fed-a002-ca4355899d2e"
      },
      "outputs": [
        {
          "output_type": "stream",
          "name": "stdout",
          "text": [
            "Variables internas del modelo:\n",
            "[array([[0.3937151]], dtype=float32), array([-0.01085926], dtype=float32)]\n"
          ]
        }
      ],
      "source": [
        "# Mostramos las variables internas del modelo\n",
        "print(\"Variables internas del modelo:\")\n",
        "print(capa.get_weights())"
      ]
    }
  ],
  "metadata": {
    "jupytext": {
      "cell_metadata_filter": "-all",
      "main_language": "python",
      "notebook_metadata_filter": "-all"
    },
    "colab": {
      "provenance": [],
      "include_colab_link": true
    },
    "language_info": {
      "name": "python"
    },
    "kernelspec": {
      "name": "python3",
      "display_name": "Python 3"
    }
  },
  "nbformat": 4,
  "nbformat_minor": 5
}